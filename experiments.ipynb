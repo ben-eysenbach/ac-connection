{
  "nbformat": 4,
  "nbformat_minor": 0,
  "metadata": {
    "colab": {
      "provenance": []
    },
    "kernelspec": {
      "name": "python3",
      "display_name": "Python 3"
    },
    "language_info": {
      "name": "python"
    }
  },
  "cells": [
    {
      "cell_type": "code",
      "execution_count": 1,
      "metadata": {
        "id": "C4Qhv_ZJfbTc"
      },
      "outputs": [],
      "source": [
        "import numpy as np\n",
        "import matplotlib.pyplot as plt\n",
        "import tqdm\n",
        "import sklearn.metrics\n",
        "from matplotlib.ticker import (MultipleLocator, FormatStrFormatter, AutoMinorLocator)\n",
        "from matplotlib import gridspec"
      ]
    },
    {
      "cell_type": "markdown",
      "source": [
        "### Experiment 3\n",
        "Aim is to show that regularization is important. If you don't regularize, then you'll learn a sub-optimal policy"
      ],
      "metadata": {
        "id": "PRCD2Udq5zmO"
      }
    },
    {
      "cell_type": "code",
      "source": [
        "size = 5\n",
        "num_states = size**2\n",
        "num_actions = 5\n",
        "\n",
        "def step(s, a):\n",
        "  ij = np.array(np.unravel_index(s, (size, size)))\n",
        "  if a == 0:\n",
        "    ij[0] += 1\n",
        "  elif a == 1:\n",
        "    ij[1] += 1\n",
        "  elif a == 2:\n",
        "    ij[0] -= 1\n",
        "  elif a == 3:\n",
        "    ij[1] -= 1\n",
        "  ij = ij.clip(0, size - 1)\n",
        "  return np.ravel_multi_index(ij, (size, size))\n",
        "\n",
        "def reward(s, a):\n",
        "  return 0.01 * (s == 4).astype(float)\n",
        "\n",
        "initial_state = 0\n",
        "\n",
        "p_ns_given_sa = np.zeros((num_states, num_states, num_actions))\n",
        "r_sa = np.zeros((num_states, num_actions))\n",
        "for s in range(num_states):\n",
        "  for a in range(num_actions):\n",
        "    r_sa[s, a] = reward(np.array(s), a)\n",
        "    ns = step(s, a)\n",
        "    p_ns_given_sa[ns, s, a] = 1\n",
        "\n",
        "def evaluate_pi(pi):\n",
        "  p = np.zeros(num_states)\n",
        "  p[initial_state] = 1\n",
        "  p_ns_given_s = (p_ns_given_sa * pi[None]).sum(axis=-1)\n",
        "  r_vec = []\n",
        "  for t in range(1000):\n",
        "    p_sa = p[:, None] * pi\n",
        "    r = (r_sa * p_sa).sum()\n",
        "    r_vec.append(r * gamma**t)\n",
        "    p = p_ns_given_s @ p\n",
        "  R1 = np.sum(r_vec)\n",
        "  return R1\n",
        "\n",
        "# collect static dataset\n",
        "traj_vec = []\n",
        "\n",
        "num_traj = 1\n",
        "max_episode_steps = 10\n",
        "np.random.seed(0)\n",
        "for _ in tqdm.trange(num_traj):\n",
        "  traj = []\n",
        "  s = initial_state\n",
        "  for __ in range(max_episode_steps):\n",
        "    if s == 0:\n",
        "      a = 0  # down\n",
        "    elif s in [5, 6, 7, 8]:\n",
        "      a = 1  # right\n",
        "    elif s == 9:\n",
        "      a = 2  # up\n",
        "    else:\n",
        "      a = 4  # nothing\n",
        "    traj.append((s, a))\n",
        "    s = step(s, a)\n",
        "  traj_vec.append(traj)\n",
        "traj_vec = np.array(traj_vec)  # (num_traj, max_episode_steps, 2)\n",
        "\n",
        "# SARSA, Q-learning\n",
        "gamma = 0.95\n",
        "learning_rate = 1e-2\n",
        "\n",
        "for q_learning in [True, False]:\n",
        "  use_sarsa = not q_learning\n",
        "  regularize_policy = not q_learning\n",
        "\n",
        "  np.random.seed(0)\n",
        "  Q = np.random.normal(size=(num_states, num_actions))\n",
        "  s_vec = traj_vec[:, :-1, 0].flatten()\n",
        "  ns_vec = traj_vec[:, 1:, 0].flatten()\n",
        "  a_vec = traj_vec[:, :-1, 1].flatten()\n",
        "  na_vec = traj_vec[:, 1:, 1].flatten()\n",
        "  r_vec = reward(s_vec, a_vec)\n",
        "  diff_vec = []\n",
        "\n",
        "  counts = np.zeros((num_states, num_actions))\n",
        "  np.add.at(counts, (s_vec, a_vec), 1)\n",
        "  beta = counts / counts.sum(axis=1, keepdims=True)\n",
        "  # assert np.all(np.isfinite(beta))\n",
        "\n",
        "  for _ in tqdm.trange(10_000):\n",
        "    if use_sarsa:\n",
        "      V_vec = Q[ns_vec, na_vec]\n",
        "      # V_vec = (Q[ns_vec] * beta[ns_vec]).sum(axis=-1)\n",
        "    else:\n",
        "      V_vec = Q[ns_vec].max(-1)\n",
        "    td_update = r_vec + gamma * V_vec - Q[s_vec, a_vec]\n",
        "    diff = np.linalg.norm(td_update)\n",
        "    diff_vec.append(diff)\n",
        "    np.add.at(Q, (s_vec, a_vec), learning_rate * td_update)\n",
        "\n",
        "\n",
        "  # policy extraction\n",
        "  if regularize_policy:\n",
        "    pi = (Q * beta).clip(0, None)  # Ignore negative Q values\n",
        "    pi = pi / pi.sum(axis=1, keepdims=True)  # Normalize the probabilities\n",
        "  else:\n",
        "    pi = np.zeros((num_states, num_actions))\n",
        "    pi[np.arange(num_states), Q.argmax(axis=1)] = 1\n",
        "\n",
        "  plt.figure(figsize=(8, 3))\n",
        "  plt.subplot(121)\n",
        "  plt.plot(diff_vec)\n",
        "  plt.subplot(122)\n",
        "  plt.imshow(Q.mean(-1).reshape((size, size)))\n",
        "  for s in range(num_states):\n",
        "    for a, prob in enumerate(pi[s]):\n",
        "      ns = step(s, a)\n",
        "      if s != ns:\n",
        "        ij = np.array(np.unravel_index(s, (size, size)))\n",
        "        delta = np.array(np.unravel_index(ns, (size, size))) - ij\n",
        "        delta = 0.9 *prob * delta\n",
        "        plt.arrow(ij[1], ij[0], delta[1], delta[0], width=0.03, length_includes_head=True)\n",
        "\n",
        "  plt.colorbar()\n",
        "  plt.show()\n",
        "  plt.imshow(Q.mean(-1).reshape((size, size)), cmap='Greys')\n",
        "  for _ in range(num_traj):\n",
        "    traj = []\n",
        "    s = initial_state\n",
        "    for __ in range(max_episode_steps):\n",
        "      a = np.random.choice(num_actions, p=pi[s])\n",
        "      traj.append((s, a))\n",
        "      s = step(s, a)\n",
        "    traj = np.array(traj)\n",
        "    i_vec, j_vec = np.unravel_index(traj[:, 0], (size, size))\n",
        "    plt.plot(j_vec, i_vec, 'b-o', alpha=0.01)\n",
        "  plt.show()\n",
        "  if q_learning:\n",
        "    Q3 = Q.copy()\n",
        "    pi3 = pi.copy()\n",
        "  else:\n",
        "    Q1 = Q.copy()\n",
        "    pi1 = pi.copy()\n",
        "\n",
        "# critic regularization\n",
        "gamma = 0.95\n",
        "learning_rate = 1e-3\n",
        "\n",
        "np.random.seed(0)\n",
        "Q = np.random.normal(size=(num_states, num_actions))\n",
        "s_vec = traj_vec[:, :-1, 0].flatten()\n",
        "ns_vec = traj_vec[:, 1:, 0].flatten()\n",
        "a_vec = traj_vec[:, :-1, 1].flatten()\n",
        "na_vec = traj_vec[:, 1:, 1].flatten()\n",
        "r_vec = reward(s_vec, a_vec)\n",
        "diff_vec = []\n",
        "pi = np.ones((num_states, num_actions)) / num_actions\n",
        "\n",
        "for t in tqdm.trange(10_000):\n",
        "  V_vec = (Q[ns_vec] * pi[ns_vec]).sum(axis=-1)\n",
        "\n",
        "  pos_weights = np.zeros((num_states, num_actions))\n",
        "  y = r_vec + gamma * V_vec\n",
        "  np.add.at(pos_weights, (s_vec, a_vec), y / (y + 1))\n",
        "  neg_weights = np.zeros((num_states, num_actions))\n",
        "  w = pi[s_vec, a_vec] / beta[s_vec, a_vec]\n",
        "  np.add.at(neg_weights, (s_vec, a_vec), w / (y + 1))\n",
        "  # Add epsilon to make the classifier in (0, 1)\n",
        "  opt_classifier = pos_weights / (pos_weights + neg_weights + 1e-6)\n",
        "  # opt_classifier = opt_classifier.clip(1e-6, 1 - 1e-6)\n",
        "  diff_vec.append(np.linalg.norm(Q - opt_classifier / (1 - opt_classifier)))\n",
        "  Q = opt_classifier / (1 - opt_classifier)\n",
        "\n",
        "  # Do a small update to pi to ensure convergence\n",
        "  pi_new = np.zeros((num_states, num_actions))\n",
        "  pi_new[np.arange(num_states), Q.argmax(axis=1)] = 1\n",
        "  pi += learning_rate * (pi_new - pi)\n",
        "\n",
        "Q2 = Q.copy()\n",
        "pi2 = pi.copy()\n",
        "plt.imshow(Q.mean(-1).reshape((size, size)), cmap='Greys')\n",
        "for _ in range(num_traj):\n",
        "  traj = []\n",
        "  s = initial_state\n",
        "  for __ in range(max_episode_steps):\n",
        "    a = np.random.choice(num_actions, p=pi[s])\n",
        "    traj.append((s, a))\n",
        "    s = step(s, a)\n",
        "\n",
        "c_vec = plt.rcParams['axes.prop_cycle'].by_key()['color']\n",
        "\n",
        "plt.figure(figsize=(5, 3))\n",
        "gs = gridspec.GridSpec(2, 1, height_ratios=[1, 3])\n",
        "plt.subplot(gs[0])\n",
        "\n",
        "pi1_nan = pi1.copy()\n",
        "pi1_nan[np.isnan(pi1_nan)] = 1 / num_actions\n",
        "R1 = evaluate_pi(pi1_nan)\n",
        "R2 = evaluate_pi(pi2)\n",
        "R3 = evaluate_pi(pi3)\n",
        "x = np.arange(3)\n",
        "plt.barh(x, [R1, R2, R3])\n",
        "plt.xlabel('expected returns', fontsize=12)\n",
        "plt.gca().xaxis.set_label_position('top') \n",
        "plt.yticks(x, ['actor', 'critic', 'none'], fontsize=12)\n",
        "plt.gca().xaxis.set_major_locator(MultipleLocator(0.1))\n",
        "plt.gca().xaxis.set_minor_locator(MultipleLocator(0.02))\n",
        "plt.gca().xaxis.tick_top()\n",
        "\n",
        "\n",
        "plt.subplot(gs[1])\n",
        "l = plt.plot([0, 1], [0, 1], '-', c='#666', linewidth=1, alpha=0.5)\n",
        "plt.text(0.4, 0.5, '$y = x$', fontsize=12, c='#666')\n",
        "plt.plot(pi1.flatten(), pi2.flatten(), 'o', alpha=0.5, c=c_vec[0])\n",
        "plt.xlabel('actor regularization', fontsize=14)\n",
        "plt.ylabel('critic regularization', fontsize=14, c=c_vec[0])\n",
        "plt.gca().yaxis.set_major_locator(MultipleLocator(0.5))\n",
        "plt.gca().yaxis.set_minor_locator(MultipleLocator(0.1))\n",
        "plt.gca().xaxis.set_major_locator(MultipleLocator(0.5))\n",
        "plt.gca().xaxis.set_minor_locator(MultipleLocator(0.1))\n",
        "ax = plt.gca()\n",
        "\n",
        "plt.ylim([-0.05, 1.05])\n",
        "ax2 = plt.twinx()\n",
        "ax.set_zorder(ax2.get_zorder()+1)\n",
        "ax.set_frame_on(False)\n",
        "\n",
        "out = ax2.plot(pi1.flatten(), pi3.flatten(), 'x', c=c_vec[1], alpha=0.5, markersize=10)\n",
        "ax2.set_ylabel('no regularization', fontsize=14, c=c_vec[1])\n",
        "ax2.set_ylim([-0.05, 1.05])\n",
        "ax2.yaxis.set_major_locator(MultipleLocator(0.5))\n",
        "ax2.yaxis.set_minor_locator(MultipleLocator(0.1))\n",
        "\n",
        "plt.subplots_adjust(hspace=0.5)\n",
        "filename = '/tmp/gridworld_exp3.pdf'\n",
        "plt.savefig(filename, bbox_inches='tight')\n",
        "plt.show()"
      ],
      "metadata": {
        "colab": {
          "height": 1000,
          "base_uri": "https://localhost:8080/"
        },
        "id": "StEESJJi53kD",
        "outputId": "8425dc41-fb8b-4948-da8a-13379ca176b7"
      },
      "execution_count": 4,
      "outputs": [
        {
          "output_type": "stream",
          "name": "stderr",
          "text": [
            "100%|██████████| 1/1 [00:00<00:00, 859.84it/s]\n",
            "<ipython-input-4-b8b35f2f1761>:86: RuntimeWarning: invalid value encountered in true_divide\n",
            "  beta = counts / counts.sum(axis=1, keepdims=True)\n",
            "100%|██████████| 10000/10000 [00:00<00:00, 14878.47it/s]\n"
          ]
        },
        {
          "output_type": "display_data",
          "data": {
            "text/plain": [
              "<Figure size 800x300 with 3 Axes>"
            ],
            "image/png": "[encoded data removed]"
          },
          "metadata": {}
        },
        {
          "output_type": "display_data",
          "data": {
            "text/plain": [
              "<Figure size 640x480 with 1 Axes>"
            ],
            "image/png": "[encoded data removed]"
          },
          "metadata": {}
        },
        {
          "output_type": "stream",
          "name": "stderr",
          "text": [
            "100%|██████████| 10000/10000 [00:00<00:00, 23619.54it/s]\n"
          ]
        },
        {
          "output_type": "display_data",
          "data": {
            "text/plain": [
              "<Figure size 800x300 with 3 Axes>"
            ],
            "image/png": "[encoded data removed]"
          },
          "metadata": {}
        },
        {
          "output_type": "display_data",
          "data": {
            "text/plain": [
              "<Figure size 640x480 with 1 Axes>"
            ],
            "image/png": "[encoded data removed]"
          },
          "metadata": {}
        },
        {
          "output_type": "stream",
          "name": "stderr",
          "text": [
            "100%|██████████| 10000/10000 [00:01<00:00, 7865.45it/s]\n",
            "UsageError: Line magic function `%download_file` not found.\n"
          ]
        },
        {
          "output_type": "display_data",
          "data": {
            "text/plain": [
              "<Figure size 640x480 with 1 Axes>"
            ],
            "image/png": "[encoded data removed]"
          },
          "metadata": {}
        },
        {
          "output_type": "display_data",
          "data": {
            "text/plain": [
              "<Figure size 500x300 with 3 Axes>"
            ],
            "image/png": "[encoded data removed]"
          },
          "metadata": {}
        }
      ]
    },
    {
      "cell_type": "markdown",
      "source": [
        "### Experiment 2\n",
        "\n",
        "Data avoids some states in the middle, aim is to show that both methods end up taking suboptimal paths, being regularized to stay close to the data distribution"
      ],
      "metadata": {
        "id": "tM-F8m2PnzlR"
      }
    },
    {
      "cell_type": "code",
      "source": [
        "size = 5\n",
        "num_states = size**2\n",
        "num_actions = 5\n",
        "\n",
        "def step(s, a):\n",
        "  ij = np.array(np.unravel_index(s, (size, size)))\n",
        "  if a == 0:\n",
        "    ij[0] += 1\n",
        "  elif a == 1:\n",
        "    ij[1] += 1\n",
        "  elif a == 2:\n",
        "    ij[0] -= 1\n",
        "  elif a == 3:\n",
        "    ij[1] -= 1\n",
        "  ij = ij.clip(0, size - 1)\n",
        "  return np.ravel_multi_index(ij, (size, size))\n",
        "\n",
        "def reward(s, a):\n",
        "  return -1 * (0 < s) * (s < 4) + 1.5 * (s == 4) + 2.0\n",
        "  # return (s == 4).astype(float)\n",
        "\n",
        "initial_state = 0\n",
        "\n",
        "def evaluate_pi(pi):\n",
        "  p = np.zeros(num_states)\n",
        "  p[initial_state] = 1\n",
        "  p_ns_given_s = (p_ns_given_sa * pi[None]).sum(axis=-1)\n",
        "  r_vec = []\n",
        "  for t in range(1000):\n",
        "    p_sa = p[:, None] * pi\n",
        "    r = (r_sa * p_sa).sum()\n",
        "    r_vec.append(r * gamma**t)\n",
        "    p = p_ns_given_s @ p\n",
        "  R1 = np.sum(r_vec)\n",
        "  return R1\n",
        "\n",
        "# collect static dataset\n",
        "traj_vec = []\n",
        "\n",
        "pi = np.ones((num_states, num_actions)) / 5.0\n",
        "\n",
        "num_traj = 20\n",
        "max_episode_steps = 50\n",
        "np.random.seed(0)\n",
        "for _ in tqdm.trange(num_traj):\n",
        "  traj = []\n",
        "  s = initial_state\n",
        "  for __ in range(max_episode_steps):\n",
        "    a = np.random.choice(num_actions, p=pi[s])\n",
        "    traj.append((s, a))\n",
        "    s = step(s, a)\n",
        "  traj_vec.append(traj)\n",
        "traj_vec = np.array(traj_vec)  # (num_traj, max_episode_steps, 2)\n",
        "\n",
        "# SARSA, Q-learning\n",
        "gamma = 0.95\n",
        "learning_rate = 1e-2\n",
        "for q_learning in [True, False]:\n",
        "  use_sarsa = not q_learning\n",
        "  regularize_policy = not q_learning\n",
        "\n",
        "  np.random.seed(0)\n",
        "  Q = np.random.normal(size=(num_states, num_actions))\n",
        "  s_vec = traj_vec[:, :-1, 0].flatten()\n",
        "  ns_vec = traj_vec[:, 1:, 0].flatten()\n",
        "  a_vec = traj_vec[:, :-1, 1].flatten()\n",
        "  na_vec = traj_vec[:, 1:, 1].flatten()\n",
        "  r_vec = reward(s_vec, a_vec)\n",
        "  diff_vec = []\n",
        "\n",
        "  counts = np.zeros((num_states, num_actions))\n",
        "  np.add.at(counts, (s_vec, a_vec), 1)\n",
        "  beta = counts / counts.sum(axis=1, keepdims=True)\n",
        "  assert np.all(np.isfinite(beta))\n",
        "\n",
        "  for t in tqdm.trange(20_000):\n",
        "    if use_sarsa:\n",
        "      # V_vec = Q[ns_vec, na_vec]\n",
        "      V_vec = (Q[ns_vec] * beta[ns_vec]).sum(axis=-1)\n",
        "    else:\n",
        "      V_vec = Q[ns_vec].max(-1)\n",
        "    td_update = r_vec + gamma * V_vec - Q[s_vec, a_vec]\n",
        "    diff = np.linalg.norm(td_update)\n",
        "    diff_vec.append(diff)\n",
        "    np.add.at(Q, (s_vec, a_vec), learning_rate * td_update)\n",
        "    if t % 1000 == 0:\n",
        "      print(diff)\n",
        "\n",
        "\n",
        "  # policy extraction\n",
        "  if regularize_policy:\n",
        "    pi = (Q * beta).clip(0, None)  # Ignore negative Q values\n",
        "    pi = pi / pi.sum(axis=1, keepdims=True)  # Normalize the probabilities\n",
        "  else:\n",
        "    pi = np.zeros((num_states, num_actions))\n",
        "    pi[np.arange(num_states), Q.argmax(axis=1)] = 1\n",
        "\n",
        "  plt.figure(figsize=(8, 3))\n",
        "  plt.subplot(121)\n",
        "  plt.plot(diff_vec)\n",
        "  plt.subplot(122)\n",
        "  plt.imshow(Q.mean(-1).reshape((size, size)))\n",
        "  for s in range(num_states):\n",
        "    for a, prob in enumerate(pi[s]):\n",
        "      ns = step(s, a)\n",
        "      if s != ns:\n",
        "        ij = np.array(np.unravel_index(s, (size, size)))\n",
        "        delta = np.array(np.unravel_index(ns, (size, size))) - ij\n",
        "        delta = 0.9 *prob * delta\n",
        "        plt.arrow(ij[1], ij[0], delta[1], delta[0], width=0.03, length_includes_head=True)\n",
        "\n",
        "  plt.colorbar()\n",
        "  plt.show()\n",
        "  if q_learning:\n",
        "    pi3 = pi.copy()\n",
        "  else:\n",
        "    pi1 = pi.copy()\n",
        "\n",
        "# critic regularization\n",
        "gamma = 0.95\n",
        "learning_rate = 1e-3\n",
        "\n",
        "np.random.seed(0)\n",
        "Q = np.random.normal(size=(num_states, num_actions))\n",
        "s_vec = traj_vec[:, :-1, 0].flatten()\n",
        "ns_vec = traj_vec[:, 1:, 0].flatten()\n",
        "a_vec = traj_vec[:, :-1, 1].flatten()\n",
        "na_vec = traj_vec[:, 1:, 1].flatten()\n",
        "r_vec = reward(s_vec, a_vec)\n",
        "diff_vec = []\n",
        "pi = np.ones((num_states, num_actions)) / num_actions\n",
        "\n",
        "for t in tqdm.trange(10_000):\n",
        "  V_vec = (Q[ns_vec] * pi[ns_vec]).sum(axis=-1)\n",
        "\n",
        "  pos_weights = np.zeros((num_states, num_actions))\n",
        "  y = r_vec + gamma * V_vec\n",
        "  np.add.at(pos_weights, (s_vec, a_vec), y / (y + 1))\n",
        "  neg_weights = np.zeros((num_states, num_actions))\n",
        "  w = pi[s_vec, a_vec] / beta[s_vec, a_vec]\n",
        "  np.add.at(neg_weights, (s_vec, a_vec), w / (y + 1))\n",
        "  # Add epsilon to make the classifier in (0, 1)\n",
        "  opt_classifier = pos_weights / (pos_weights + neg_weights + 1e-6)\n",
        "  # opt_classifier = opt_classifier.clip(1e-6, 1 - 1e-6)\n",
        "  diff_vec.append(np.linalg.norm(Q - opt_classifier / (1 - opt_classifier)))\n",
        "  Q = opt_classifier / (1 - opt_classifier)\n",
        "\n",
        "  # Do a small update to pi to ensure convergence\n",
        "  pi_new = np.zeros((num_states, num_actions))\n",
        "  pi_new[np.arange(num_states), Q.argmax(axis=1)] = 1\n",
        "  pi += learning_rate * (pi_new - pi)\n",
        "\n",
        "plt.figure(figsize=(8, 3))\n",
        "plt.subplot(121)\n",
        "plt.plot(diff_vec)\n",
        "plt.subplot(122)\n",
        "plt.imshow(Q.mean(-1).reshape((size, size)))\n",
        "for s in range(num_states):\n",
        "  for a, prob in enumerate(pi[s]):\n",
        "    ns = step(s, a)\n",
        "    if s != ns:\n",
        "      ij = np.array(np.unravel_index(s, (size, size)))\n",
        "      delta = np.array(np.unravel_index(ns, (size, size))) - ij\n",
        "      delta = 0.9 *prob * delta\n",
        "      plt.arrow(ij[1], ij[0], delta[1], delta[0], width=0.03, length_includes_head=True)\n",
        "\n",
        "plt.colorbar()\n",
        "plt.show()\n",
        "Q2 = Q.copy()\n",
        "pi2 = pi.copy()\n",
        "\n",
        "plt.figure(figsize=(5, 3))\n",
        "gs = gridspec.GridSpec(2, 1, height_ratios=[1, 3])\n",
        "plt.subplot(gs[0])\n",
        "\n",
        "pi1_nan = pi1.copy()\n",
        "pi1_nan[np.isnan(pi1_nan)] = 1 / num_actions\n",
        "R1 = evaluate_pi(pi1_nan)\n",
        "R2 = evaluate_pi(pi2)\n",
        "R3 = evaluate_pi(pi3)\n",
        "x = np.arange(3)\n",
        "plt.barh(x, [R1, R2, R3], color=[c_vec[0], c_vec[0], c_vec[1]])\n",
        "# plt.ylabel('regularization', fontsize=12)\n",
        "plt.xlabel('expected returns', fontsize=12)\n",
        "plt.gca().xaxis.set_label_position('top') \n",
        "plt.yticks(x, ['actor', 'critic', 'none'], fontsize=12)\n",
        "plt.gca().xaxis.set_major_locator(MultipleLocator(0.1))\n",
        "plt.gca().xaxis.set_minor_locator(MultipleLocator(0.02))\n",
        "plt.gca().xaxis.tick_top()\n",
        "\n",
        "\n",
        "plt.subplot(gs[1])\n",
        "l = plt.plot([0, 0.55], [0, 0.55], '-', c='#666', linewidth=1, alpha=0.5)\n",
        "plt.text(0.4, 0.5, '$y = x$', fontsize=12, c='#666')\n",
        "plt.plot(pi1.flatten(), pi2.flatten(), 'o', alpha=0.5, c=c_vec[0])\n",
        "plt.xlabel('actor regularization', fontsize=14)\n",
        "plt.ylabel('critic regularization', fontsize=14, c=c_vec[0])\n",
        "plt.gca().yaxis.set_major_locator(MultipleLocator(0.5))\n",
        "plt.gca().yaxis.set_minor_locator(MultipleLocator(0.1))\n",
        "# plt.grid()\n",
        "plt.gca().xaxis.set_major_locator(MultipleLocator(0.5))\n",
        "plt.gca().xaxis.set_minor_locator(MultipleLocator(0.1))\n",
        "\n",
        "\n",
        "plt.ylim([-0.05, 1.05])\n",
        "ax2 = plt.twinx()\n",
        "ax2.plot(pi1.flatten(), pi3.flatten(), 'o', c=c_vec[1], alpha=0.5)\n",
        "ax2.set_ylabel('no regularization', fontsize=14, c=c_vec[1])\n",
        "ax2.set_ylim([-0.05, 1.05])\n",
        "ax2.yaxis.set_major_locator(MultipleLocator(0.5))\n",
        "ax2.yaxis.set_minor_locator(MultipleLocator(0.1))\n",
        "\n",
        "plt.subplots_adjust(hspace=0.5)\n",
        "filename = '/tmp/gridworld_exp2.pdf'\n",
        "plt.savefig(filename, bbox_inches='tight')\n",
        "plt.show()"
      ],
      "metadata": {
        "colab": {
          "height": 1000,
          "base_uri": "https://localhost:8080/"
        },
        "id": "LCbwB7hen9jm",
        "outputId": "93e58cd0-d6f7-48c3-a440-7923785cb981"
      },
      "execution_count": 6,
      "outputs": [
        {
          "output_type": "stream",
          "name": "stderr",
          "text": [
            "100%|██████████| 20/20 [00:00<00:00, 82.61it/s]\n",
            "  2%|▏         | 427/20000 [00:00<00:09, 2154.40it/s]"
          ]
        },
        {
          "output_type": "stream",
          "name": "stdout",
          "text": [
            "96.29896632124004\n"
          ]
        },
        {
          "output_type": "stream",
          "name": "stderr",
          "text": [
            "  7%|▋         | 1412/20000 [00:00<00:07, 2421.67it/s]"
          ]
        },
        {
          "output_type": "stream",
          "name": "stdout",
          "text": [
            "2.154573034666645\n"
          ]
        },
        {
          "output_type": "stream",
          "name": "stderr",
          "text": [
            " 12%|█▏        | 2390/20000 [00:01<00:07, 2432.05it/s]"
          ]
        },
        {
          "output_type": "stream",
          "name": "stdout",
          "text": [
            "0.023769219033495808\n"
          ]
        },
        {
          "output_type": "stream",
          "name": "stderr",
          "text": [
            " 17%|█▋        | 3363/20000 [00:01<00:07, 2376.39it/s]"
          ]
        },
        {
          "output_type": "stream",
          "name": "stdout",
          "text": [
            "0.0002613874530889867\n"
          ]
        },
        {
          "output_type": "stream",
          "name": "stderr",
          "text": [
            " 22%|██▏       | 4341/20000 [00:01<00:06, 2397.56it/s]"
          ]
        },
        {
          "output_type": "stream",
          "name": "stdout",
          "text": [
            "2.8744139966195465e-06\n"
          ]
        },
        {
          "output_type": "stream",
          "name": "stderr",
          "text": [
            " 26%|██▋       | 5262/20000 [00:02<00:06, 2152.50it/s]"
          ]
        },
        {
          "output_type": "stream",
          "name": "stdout",
          "text": [
            "3.1610654416529874e-08\n"
          ]
        },
        {
          "output_type": "stream",
          "name": "stderr",
          "text": [
            " 32%|███▏      | 6434/20000 [00:02<00:05, 2284.65it/s]"
          ]
        },
        {
          "output_type": "stream",
          "name": "stdout",
          "text": [
            "3.4858955729971954e-10\n"
          ]
        },
        {
          "output_type": "stream",
          "name": "stderr",
          "text": [
            " 37%|███▋      | 7407/20000 [00:03<00:05, 2411.66it/s]"
          ]
        },
        {
          "output_type": "stream",
          "name": "stdout",
          "text": [
            "1.3986666926653642e-11\n"
          ]
        },
        {
          "output_type": "stream",
          "name": "stderr",
          "text": [
            " 42%|████▏     | 8381/20000 [00:03<00:04, 2345.93it/s]"
          ]
        },
        {
          "output_type": "stream",
          "name": "stdout",
          "text": [
            "1.3986666926653642e-11\n"
          ]
        },
        {
          "output_type": "stream",
          "name": "stderr",
          "text": [
            " 47%|████▋     | 9376/20000 [00:04<00:04, 2452.63it/s]"
          ]
        },
        {
          "output_type": "stream",
          "name": "stdout",
          "text": [
            "1.3986666926653642e-11\n"
          ]
        },
        {
          "output_type": "stream",
          "name": "stderr",
          "text": [
            " 51%|█████     | 10107/20000 [00:04<00:04, 2193.27it/s]"
          ]
        },
        {
          "output_type": "stream",
          "name": "stdout",
          "text": [
            "1.3986666926653642e-11\n"
          ]
        },
        {
          "output_type": "stream",
          "name": "stderr",
          "text": [
            " 56%|█████▌    | 11235/20000 [00:04<00:04, 2061.01it/s]"
          ]
        },
        {
          "output_type": "stream",
          "name": "stdout",
          "text": [
            "1.3986666926653642e-11\n"
          ]
        },
        {
          "output_type": "stream",
          "name": "stderr",
          "text": [
            " 62%|██████▏   | 12383/20000 [00:05<00:03, 2164.04it/s]"
          ]
        },
        {
          "output_type": "stream",
          "name": "stdout",
          "text": [
            "1.3986666926653642e-11\n"
          ]
        },
        {
          "output_type": "stream",
          "name": "stderr",
          "text": [
            " 67%|██████▋   | 13313/20000 [00:05<00:02, 2285.52it/s]"
          ]
        },
        {
          "output_type": "stream",
          "name": "stdout",
          "text": [
            "1.3986666926653642e-11\n"
          ]
        },
        {
          "output_type": "stream",
          "name": "stderr",
          "text": [
            " 71%|███████▏  | 14299/20000 [00:06<00:02, 2415.58it/s]"
          ]
        },
        {
          "output_type": "stream",
          "name": "stdout",
          "text": [
            "1.3986666926653642e-11\n"
          ]
        },
        {
          "output_type": "stream",
          "name": "stderr",
          "text": [
            " 78%|███████▊  | 15559/20000 [00:07<00:02, 2126.17it/s]"
          ]
        },
        {
          "output_type": "stream",
          "name": "stdout",
          "text": [
            "1.3986666926653642e-11\n"
          ]
        },
        {
          "output_type": "stream",
          "name": "stderr",
          "text": [
            " 84%|████████▍ | 16776/20000 [00:07<00:01, 3220.71it/s]"
          ]
        },
        {
          "output_type": "stream",
          "name": "stdout",
          "text": [
            "1.3986666926653642e-11\n"
          ]
        },
        {
          "output_type": "stream",
          "name": "stderr",
          "text": [
            "\r 86%|████████▌ | 17122/20000 [00:07<00:01, 2377.18it/s]"
          ]
        },
        {
          "output_type": "stream",
          "name": "stdout",
          "text": [
            "1.3986666926653642e-11\n"
          ]
        },
        {
          "output_type": "stream",
          "name": "stderr",
          "text": [
            " 91%|█████████ | 18111/20000 [00:08<00:01, 1600.97it/s]"
          ]
        },
        {
          "output_type": "stream",
          "name": "stdout",
          "text": [
            "1.3986666926653642e-11\n"
          ]
        },
        {
          "output_type": "stream",
          "name": "stderr",
          "text": [
            " 96%|█████████▌| 19159/20000 [00:08<00:00, 1479.99it/s]"
          ]
        },
        {
          "output_type": "stream",
          "name": "stdout",
          "text": [
            "1.3986666926653642e-11\n"
          ]
        },
        {
          "output_type": "stream",
          "name": "stderr",
          "text": [
            "100%|██████████| 20000/20000 [00:09<00:00, 2101.15it/s]\n"
          ]
        },
        {
          "output_type": "display_data",
          "data": {
            "text/plain": [
              "<Figure size 800x300 with 3 Axes>"
            ],
            "image/png": "[encoded data removed]"
          },
          "metadata": {}
        },
        {
          "output_type": "stream",
          "name": "stderr",
          "text": [
            "  1%|          | 235/20000 [00:00<00:17, 1142.72it/s]"
          ]
        },
        {
          "output_type": "stream",
          "name": "stdout",
          "text": [
            "66.39322379157677\n"
          ]
        },
        {
          "output_type": "stream",
          "name": "stderr",
          "text": [
            "  6%|▌         | 1138/20000 [00:01<00:18, 1017.37it/s]"
          ]
        },
        {
          "output_type": "stream",
          "name": "stdout",
          "text": [
            "3.3532861479204645\n"
          ]
        },
        {
          "output_type": "stream",
          "name": "stderr",
          "text": [
            " 11%|█         | 2211/20000 [00:01<00:13, 1299.98it/s]"
          ]
        },
        {
          "output_type": "stream",
          "name": "stdout",
          "text": [
            "0.18378936077964336\n"
          ]
        },
        {
          "output_type": "stream",
          "name": "stderr",
          "text": [
            " 16%|█▌        | 3153/20000 [00:02<00:09, 1716.54it/s]"
          ]
        },
        {
          "output_type": "stream",
          "name": "stdout",
          "text": [
            "0.01006242568998739\n"
          ]
        },
        {
          "output_type": "stream",
          "name": "stderr",
          "text": [
            " 21%|██        | 4205/20000 [00:02<00:08, 1920.70it/s]"
          ]
        },
        {
          "output_type": "stream",
          "name": "stdout",
          "text": [
            "0.0005509244136196994\n"
          ]
        },
        {
          "output_type": "stream",
          "name": "stderr",
          "text": [
            " 27%|██▋       | 5331/20000 [00:03<00:06, 2226.24it/s]"
          ]
        },
        {
          "output_type": "stream",
          "name": "stdout",
          "text": [
            "3.016349723653444e-05\n"
          ]
        },
        {
          "output_type": "stream",
          "name": "stderr",
          "text": [
            " 31%|███▏      | 6270/20000 [00:03<00:05, 2333.21it/s]"
          ]
        },
        {
          "output_type": "stream",
          "name": "stdout",
          "text": [
            "1.6514726404526117e-06\n"
          ]
        },
        {
          "output_type": "stream",
          "name": "stderr",
          "text": [
            " 36%|███▌      | 7126/20000 [00:04<00:07, 1754.27it/s]"
          ]
        },
        {
          "output_type": "stream",
          "name": "stdout",
          "text": [
            "9.041927765618393e-08\n"
          ]
        },
        {
          "output_type": "stream",
          "name": "stderr",
          "text": [
            " 41%|████▏     | 8263/20000 [00:05<00:06, 1832.52it/s]"
          ]
        },
        {
          "output_type": "stream",
          "name": "stdout",
          "text": [
            "4.950512981447762e-09\n"
          ]
        },
        {
          "output_type": "stream",
          "name": "stderr",
          "text": [
            " 47%|████▋     | 9389/20000 [00:05<00:05, 2038.13it/s]"
          ]
        },
        {
          "output_type": "stream",
          "name": "stdout",
          "text": [
            "2.717324379782316e-10\n"
          ]
        },
        {
          "output_type": "stream",
          "name": "stderr",
          "text": [
            " 52%|█████▏    | 10389/20000 [00:06<00:04, 2369.28it/s]"
          ]
        },
        {
          "output_type": "stream",
          "name": "stdout",
          "text": [
            "1.752011808558913e-11\n"
          ]
        },
        {
          "output_type": "stream",
          "name": "stderr",
          "text": [
            " 57%|█████▋    | 11398/20000 [00:06<00:03, 2450.68it/s]"
          ]
        },
        {
          "output_type": "stream",
          "name": "stdout",
          "text": [
            "1.0333524410560715e-11\n"
          ]
        },
        {
          "output_type": "stream",
          "name": "stderr",
          "text": [
            " 62%|██████▏   | 12405/20000 [00:06<00:03, 2466.61it/s]"
          ]
        },
        {
          "output_type": "stream",
          "name": "stdout",
          "text": [
            "1.0333524410560715e-11\n"
          ]
        },
        {
          "output_type": "stream",
          "name": "stderr",
          "text": [
            " 67%|██████▋   | 13378/20000 [00:07<00:02, 2394.00it/s]"
          ]
        },
        {
          "output_type": "stream",
          "name": "stdout",
          "text": [
            "1.0333524410560715e-11\n"
          ]
        },
        {
          "output_type": "stream",
          "name": "stderr",
          "text": [
            " 72%|███████▏  | 14335/20000 [00:07<00:02, 2351.27it/s]"
          ]
        },
        {
          "output_type": "stream",
          "name": "stdout",
          "text": [
            "1.0333524410560715e-11\n"
          ]
        },
        {
          "output_type": "stream",
          "name": "stderr",
          "text": [
            " 77%|███████▋  | 15455/20000 [00:08<00:01, 2813.12it/s]"
          ]
        },
        {
          "output_type": "stream",
          "name": "stdout",
          "text": [
            "1.0333524410560715e-11\n"
          ]
        },
        {
          "output_type": "stream",
          "name": "stderr",
          "text": [
            " 84%|████████▍ | 16780/20000 [00:08<00:00, 3830.27it/s]"
          ]
        },
        {
          "output_type": "stream",
          "name": "stdout",
          "text": [
            "1.0333524410560715e-11\n"
          ]
        },
        {
          "output_type": "stream",
          "name": "stderr",
          "text": [
            " 89%|████████▊ | 17707/20000 [00:08<00:00, 4254.08it/s]"
          ]
        },
        {
          "output_type": "stream",
          "name": "stdout",
          "text": [
            "1.0333524410560715e-11\n"
          ]
        },
        {
          "output_type": "stream",
          "name": "stderr",
          "text": [
            " 93%|█████████▎| 18580/20000 [00:08<00:00, 4313.62it/s]"
          ]
        },
        {
          "output_type": "stream",
          "name": "stdout",
          "text": [
            "1.0333524410560715e-11\n"
          ]
        },
        {
          "output_type": "stream",
          "name": "stderr",
          "text": [
            " 97%|█████████▋| 19484/20000 [00:09<00:00, 4350.84it/s]"
          ]
        },
        {
          "output_type": "stream",
          "name": "stdout",
          "text": [
            "1.0333524410560715e-11\n"
          ]
        },
        {
          "output_type": "stream",
          "name": "stderr",
          "text": [
            "100%|██████████| 20000/20000 [00:09<00:00, 2182.59it/s]\n"
          ]
        },
        {
          "output_type": "display_data",
          "data": {
            "text/plain": [
              "<Figure size 800x300 with 3 Axes>"
            ],
            "image/png": "[encoded data removed]"
          },
          "metadata": {}
        },
        {
          "output_type": "stream",
          "name": "stderr",
          "text": [
            "100%|██████████| 10000/10000 [00:05<00:00, 1887.84it/s]\n"
          ]
        },
        {
          "output_type": "display_data",
          "data": {
            "text/plain": [
              "<Figure size 800x300 with 3 Axes>"
            ],
            "image/png": "[encoded data removed]"
          },
          "metadata": {}
        },
        {
          "output_type": "display_data",
          "data": {
            "text/plain": [
              "<Figure size 500x300 with 3 Axes>"
            ],
            "image/png": "[encoded data removed]"
          },
          "metadata": {}
        }
      ]
    },
    {
      "cell_type": "markdown",
      "source": [
        "### Experiment 1\n",
        "random data, aim is to show that two methods converge to same strategy"
      ],
      "metadata": {
        "id": "Albc_yRHntoa"
      }
    },
    {
      "cell_type": "code",
      "source": [
        "size = 5\n",
        "num_states = size**2\n",
        "num_actions = 5\n",
        "\n",
        "def step(s, a):\n",
        "  ij = np.array(np.unravel_index(s, (size, size)))\n",
        "  if a == 0:\n",
        "    ij[0] += 1\n",
        "  elif a == 1:\n",
        "    ij[1] += 1\n",
        "  elif a == 2:\n",
        "    ij[0] -= 1\n",
        "  elif a == 3:\n",
        "    ij[1] -= 1\n",
        "  ij = ij.clip(0, size - 1)\n",
        "  return np.ravel_multi_index(ij, (size, size))\n",
        "\n",
        "def reward(s, a):\n",
        "  return (s == 24).astype(float)\n",
        "\n",
        "initial_state = 0\n",
        "\n",
        "def evaluate_pi(pi):\n",
        "  p = np.zeros(num_states)\n",
        "  p[initial_state] = 1\n",
        "  p_ns_given_s = (p_ns_given_sa * pi[None]).sum(axis=-1)\n",
        "  r_vec = []\n",
        "  for t in range(1000):\n",
        "    p_sa = p[:, None] * pi\n",
        "    r = (r_sa * p_sa).sum()\n",
        "    r_vec.append(r * gamma**t)\n",
        "    p = p_ns_given_s @ p\n",
        "  R1 = np.sum(r_vec)\n",
        "  return R1\n",
        "\n",
        "  \n",
        "# collect static dataset\n",
        "traj_vec = []\n",
        "\n",
        "num_traj = 20\n",
        "max_episode_steps = 50\n",
        "np.random.seed(0)\n",
        "for _ in tqdm.trange(num_traj):\n",
        "  traj = []\n",
        "  s = initial_state\n",
        "  for __ in range(max_episode_steps):\n",
        "    a = np.random.choice(num_actions)\n",
        "    traj.append((s, a))\n",
        "    s = step(s, a)\n",
        "  traj_vec.append(traj)\n",
        "traj_vec = np.array(traj_vec)  # (num_traj, max_episode_steps, 2)"
      ],
      "metadata": {
        "id": "frddrAPG3pEZ",
        "outputId": "1f641092-42c8-407f-df20-205414899f5e",
        "colab": {
          "base_uri": "https://localhost:8080/"
        }
      },
      "execution_count": 7,
      "outputs": [
        {
          "output_type": "stream",
          "name": "stderr",
          "text": [
            "100%|██████████| 20/20 [00:00<00:00, 282.98it/s]\n"
          ]
        }
      ]
    },
    {
      "cell_type": "code",
      "source": [
        "# SARSA, Q-learning\n",
        "# TODO: When proving the equivalence, do we want to just use the empirical next state, or sample from the empirical behavioral policy. Note that these are different.\n",
        "\n",
        "for q_learning in [True, False]:\n",
        "  gamma = 0.95\n",
        "  learning_rate = 1e-2\n",
        "  use_sarsa = not q_learning\n",
        "  regularize_policy = not q_learning\n",
        "\n",
        "  np.random.seed(0)\n",
        "  Q = np.random.normal(size=(num_states, num_actions))\n",
        "  s_vec = traj_vec[:, :-1, 0].flatten()\n",
        "  ns_vec = traj_vec[:, 1:, 0].flatten()\n",
        "  a_vec = traj_vec[:, :-1, 1].flatten()\n",
        "  na_vec = traj_vec[:, 1:, 1].flatten()\n",
        "  r_vec = reward(s_vec, a_vec)\n",
        "  diff_vec = []\n",
        "\n",
        "  counts = np.zeros((num_states, num_actions))\n",
        "  np.add.at(counts, (s_vec, a_vec), 1)\n",
        "  beta = counts / counts.sum(axis=1, keepdims=True)\n",
        "  assert np.all(np.isfinite(beta))\n",
        "\n",
        "  for _ in tqdm.trange(20_000):\n",
        "    if use_sarsa:\n",
        "      # V_vec = Q[ns_vec, na_vec]\n",
        "      V_vec = (Q[ns_vec] * beta[ns_vec]).sum(axis=-1)\n",
        "    else:\n",
        "      V_vec = Q[ns_vec].max(-1)\n",
        "    td_update = r_vec + gamma * V_vec - Q[s_vec, a_vec]\n",
        "    diff = np.linalg.norm(td_update)\n",
        "    diff_vec.append(diff)\n",
        "    np.add.at(Q, (s_vec, a_vec), learning_rate * td_update)\n",
        "\n",
        "\n",
        "  # policy extraction\n",
        "  if regularize_policy:\n",
        "    pi = (Q * beta).clip(0, None)  # Ignore negative Q values\n",
        "    pi = pi / pi.sum(axis=1, keepdims=True)  # Normalize the probabilities\n",
        "  else:\n",
        "    pi = np.zeros((num_states, num_actions))\n",
        "    pi[np.arange(num_states), Q.argmax(axis=1)] = 1\n",
        "\n",
        "  plt.figure(figsize=(8, 3))\n",
        "  plt.subplot(121)\n",
        "  plt.plot(diff_vec)\n",
        "  plt.subplot(122)\n",
        "  plt.imshow(Q.mean(-1).reshape((size, size)))\n",
        "  for s in range(num_states):\n",
        "    for a, prob in enumerate(pi[s]):\n",
        "      ns = step(s, a)\n",
        "      if s != ns:\n",
        "        ij = np.array(np.unravel_index(s, (size, size)))\n",
        "        delta = np.array(np.unravel_index(ns, (size, size))) - ij\n",
        "        delta = 0.9 *prob * delta\n",
        "        plt.arrow(ij[1], ij[0], delta[1], delta[0], width=0.03, length_includes_head=True)\n",
        "\n",
        "  plt.colorbar()\n",
        "  plt.show()\n",
        "  if q_learning:\n",
        "    Q3 = Q.copy()\n",
        "    pi3 = pi.copy()\n",
        "  else:\n",
        "    Q1 = Q.copy()\n",
        "    pi1 = pi.copy()"
      ],
      "metadata": {
        "colab": {
          "height": 601,
          "base_uri": "https://localhost:8080/"
        },
        "id": "TT_M0_Nm8OZI",
        "outputId": "16345661-14fb-4dc0-8277-f98bb4cbcd05"
      },
      "execution_count": 8,
      "outputs": [
        {
          "output_type": "stream",
          "name": "stderr",
          "text": [
            "100%|██████████| 20000/20000 [00:04<00:00, 4542.52it/s]\n"
          ]
        },
        {
          "output_type": "display_data",
          "data": {
            "text/plain": [
              "<Figure size 800x300 with 3 Axes>"
            ],
            "image/png": "[encoded data removed]"
          },
          "metadata": {}
        },
        {
          "output_type": "stream",
          "name": "stderr",
          "text": [
            "100%|██████████| 20000/20000 [00:09<00:00, 2104.11it/s]\n"
          ]
        },
        {
          "output_type": "display_data",
          "data": {
            "text/plain": [
              "<Figure size 800x300 with 3 Axes>"
            ],
            "image/png": "[encoded data removed]"
          },
          "metadata": {}
        }
      ]
    },
    {
      "cell_type": "code",
      "source": [
        "# critic regularization\n",
        "gamma = 0.95\n",
        "learning_rate = 1e-4\n",
        "\n",
        "np.random.seed(0)\n",
        "Q = np.random.normal(size=(num_states, num_actions))\n",
        "s_vec = traj_vec[:, :-1, 0].flatten()\n",
        "ns_vec = traj_vec[:, 1:, 0].flatten()\n",
        "a_vec = traj_vec[:, :-1, 1].flatten()\n",
        "na_vec = traj_vec[:, 1:, 1].flatten()\n",
        "r_vec = reward(s_vec, a_vec)\n",
        "diff_vec = []\n",
        "pi = np.ones((num_states, num_actions)) / num_actions\n",
        "\n",
        "for t in tqdm.trange(40_000):\n",
        "  V_vec = (Q[ns_vec] * pi[ns_vec]).sum(axis=-1)\n",
        "\n",
        "  pos_weights = np.zeros((num_states, num_actions))\n",
        "  y = r_vec + gamma * V_vec\n",
        "  np.add.at(pos_weights, (s_vec, a_vec), y / (y + 1))\n",
        "  neg_weights = np.zeros((num_states, num_actions))\n",
        "  w = pi[s_vec, a_vec] / beta[s_vec, a_vec]\n",
        "  np.add.at(neg_weights, (s_vec, a_vec), w / (y + 1))\n",
        "  # Add epsilon to make the classifier in (0, 1)\n",
        "  opt_classifier = pos_weights / (pos_weights + neg_weights + 1e-12)\n",
        "  # opt_classifier = opt_classifier.clip(1e-6, 1 - 1e-6)\n",
        "  diff_vec.append(np.linalg.norm(Q - opt_classifier / (1 - opt_classifier)))\n",
        "  Q = opt_classifier / (1 - opt_classifier)\n",
        "\n",
        "  # Do a small update to pi to ensure convergence\n",
        "  pi_new = np.zeros((num_states, num_actions))\n",
        "  pi_new[np.arange(num_states), Q.argmax(axis=1)] = 1\n",
        "  pi += learning_rate * (pi_new - pi)\n",
        "  if t % 1000 == 0:\n",
        "    print(t, np.linalg.norm(pi - pi1)), sklearn.metrics.r2_score(pi1.flatten(), pi.flatten())\n",
        "\n",
        "Q2 = Q.copy()\n",
        "pi2 = pi.copy()\n",
        "\n",
        "c_vec = plt.rcParams['axes.prop_cycle'].by_key()['color']\n",
        "plt.figure(figsize=(5, 3))\n",
        "gs = gridspec.GridSpec(2, 1, height_ratios=[1, 3])\n",
        "plt.subplot(gs[0])\n",
        "\n",
        "pi1_nan = pi1.copy()\n",
        "pi1_nan[np.isnan(pi1_nan)] = 1 / num_actions\n",
        "R1 = 0.0  # evaluate_pi(pi1_nan)\n",
        "R2 = evaluate_pi(pi2)\n",
        "R3 = evaluate_pi(pi3)\n",
        "x = np.arange(3)\n",
        "plt.barh(x, [R1, R2, R3], color=[c_vec[0], c_vec[0], c_vec[1]])\n",
        "# plt.ylabel('regularization', fontsize=12)\n",
        "plt.xlabel('expected returns', fontsize=12)\n",
        "plt.gca().xaxis.set_label_position('top') \n",
        "plt.yticks(x, ['actor', 'critic', 'none'], fontsize=12)\n",
        "plt.gca().xaxis.set_major_locator(MultipleLocator(0.005))\n",
        "plt.gca().xaxis.set_minor_locator(MultipleLocator(0.001))\n",
        "plt.gca().xaxis.tick_top()\n",
        "\n",
        "plt.subplot(gs[1])\n",
        "l = plt.plot([0, 0.55], [0, 0.55], '-', c='#666', linewidth=1, alpha=0.5)\n",
        "plt.text(0.4, 0.5, '$y = x$', fontsize=12, c='#666')\n",
        "plt.plot(pi1.flatten(), pi2.flatten(), 'o', alpha=0.5, c=c_vec[0])\n",
        "plt.xlabel('actor regularization', fontsize=14)\n",
        "plt.ylabel('critic regularization', fontsize=14, c=c_vec[0])\n",
        "plt.gca().yaxis.set_major_locator(MultipleLocator(0.5))\n",
        "plt.gca().yaxis.set_minor_locator(MultipleLocator(0.1))\n",
        "# plt.grid()\n",
        "plt.gca().xaxis.set_major_locator(MultipleLocator(0.5))\n",
        "plt.gca().xaxis.set_minor_locator(MultipleLocator(0.1))\n",
        "\n",
        "\n",
        "plt.ylim([-0.05, 1.05])\n",
        "ax2 = plt.twinx()\n",
        "ax2.plot(pi1.flatten(), pi3.flatten(), 'o', c=c_vec[1], alpha=0.5)\n",
        "ax2.set_ylabel('Q-learning', fontsize=14, c=c_vec[1])\n",
        "ax2.set_ylim([-0.05, 1.05])\n",
        "ax2.yaxis.set_major_locator(MultipleLocator(0.5))\n",
        "ax2.yaxis.set_minor_locator(MultipleLocator(0.1))\n",
        "\n",
        "plt.subplots_adjust(hspace=0.5)\n",
        "filename = '/tmp/gridworld_exp1.pdf'\n",
        "plt.savefig(filename, bbox_inches='tight')\n",
        "plt.show()"
      ],
      "metadata": {
        "colab": {
          "height": 1000,
          "base_uri": "https://localhost:8080/"
        },
        "id": "CTCmPczjFU5F",
        "outputId": "710fbdd4-d37e-4d12-fd96-5a22f5a68c2f"
      },
      "execution_count": 9,
      "outputs": [
        {
          "output_type": "stream",
          "name": "stderr",
          "text": [
            "  0%|          | 186/40000 [00:00<00:42, 931.52it/s]"
          ]
        },
        {
          "output_type": "stream",
          "name": "stdout",
          "text": [
            "0 1.0261784771801261\n"
          ]
        },
        {
          "output_type": "stream",
          "name": "stderr",
          "text": [
            "  3%|▎         | 1058/40000 [00:01<00:50, 773.45it/s]"
          ]
        },
        {
          "output_type": "stream",
          "name": "stdout",
          "text": [
            "1000 0.7510505291194016\n"
          ]
        },
        {
          "output_type": "stream",
          "name": "stderr",
          "text": [
            "  5%|▌         | 2191/40000 [00:03<00:44, 856.44it/s]"
          ]
        },
        {
          "output_type": "stream",
          "name": "stdout",
          "text": [
            "2000 0.5775638839046959\n"
          ]
        },
        {
          "output_type": "stream",
          "name": "stderr",
          "text": [
            "  8%|▊         | 3128/40000 [00:04<00:48, 767.38it/s]"
          ]
        },
        {
          "output_type": "stream",
          "name": "stdout",
          "text": [
            "3000 0.4646624320398954\n"
          ]
        },
        {
          "output_type": "stream",
          "name": "stderr",
          "text": [
            " 10%|█         | 4088/40000 [00:05<00:54, 657.95it/s]"
          ]
        },
        {
          "output_type": "stream",
          "name": "stdout",
          "text": [
            "4000 0.3784985033053422\n"
          ]
        },
        {
          "output_type": "stream",
          "name": "stderr",
          "text": [
            " 13%|█▎        | 5068/40000 [00:07<01:01, 572.64it/s]"
          ]
        },
        {
          "output_type": "stream",
          "name": "stdout",
          "text": [
            "5000 0.31124780284818687\n"
          ]
        },
        {
          "output_type": "stream",
          "name": "stderr",
          "text": [
            " 15%|█▌        | 6079/40000 [00:08<00:29, 1168.54it/s]"
          ]
        },
        {
          "output_type": "stream",
          "name": "stdout",
          "text": [
            "6000 0.26068434029627674\n"
          ]
        },
        {
          "output_type": "stream",
          "name": "stderr",
          "text": [
            " 19%|█▊        | 7495/40000 [00:09<00:17, 1876.45it/s]"
          ]
        },
        {
          "output_type": "stream",
          "name": "stdout",
          "text": [
            "7000 0.22374431477355217\n"
          ]
        },
        {
          "output_type": "stream",
          "name": "stderr",
          "text": [
            " 20%|██        | 8175/40000 [00:09<00:21, 1481.59it/s]"
          ]
        },
        {
          "output_type": "stream",
          "name": "stdout",
          "text": [
            "8000 0.19497456816722986\n"
          ]
        },
        {
          "output_type": "stream",
          "name": "stderr",
          "text": [
            " 23%|██▎       | 9198/40000 [00:10<00:22, 1363.10it/s]"
          ]
        },
        {
          "output_type": "stream",
          "name": "stdout",
          "text": [
            "9000 0.17083871520040245\n"
          ]
        },
        {
          "output_type": "stream",
          "name": "stderr",
          "text": [
            " 25%|██▌       | 10126/40000 [00:11<00:26, 1124.09it/s]"
          ]
        },
        {
          "output_type": "stream",
          "name": "stdout",
          "text": [
            "10000 0.149721386850306\n"
          ]
        },
        {
          "output_type": "stream",
          "name": "stderr",
          "text": [
            " 28%|██▊       | 11241/40000 [00:11<00:20, 1396.58it/s]"
          ]
        },
        {
          "output_type": "stream",
          "name": "stdout",
          "text": [
            "11000 0.1311780712317666\n"
          ]
        },
        {
          "output_type": "stream",
          "name": "stderr",
          "text": [
            " 31%|███       | 12211/40000 [00:12<00:13, 2061.49it/s]"
          ]
        },
        {
          "output_type": "stream",
          "name": "stdout",
          "text": [
            "12000 0.11492004829687881\n"
          ]
        },
        {
          "output_type": "stream",
          "name": "stderr",
          "text": [
            " 33%|███▎      | 13230/40000 [00:13<00:20, 1324.52it/s]"
          ]
        },
        {
          "output_type": "stream",
          "name": "stdout",
          "text": [
            "13000 0.10052922304126499\n"
          ]
        },
        {
          "output_type": "stream",
          "name": "stderr",
          "text": [
            " 35%|███▌      | 14127/40000 [00:13<00:22, 1162.57it/s]"
          ]
        },
        {
          "output_type": "stream",
          "name": "stdout",
          "text": [
            "14000 0.08791810894778997\n"
          ]
        },
        {
          "output_type": "stream",
          "name": "stderr",
          "text": [
            " 38%|███▊      | 15213/40000 [00:14<00:17, 1398.66it/s]"
          ]
        },
        {
          "output_type": "stream",
          "name": "stdout",
          "text": [
            "15000 0.07707307920929053\n"
          ]
        },
        {
          "output_type": "stream",
          "name": "stderr",
          "text": [
            " 40%|████      | 16186/40000 [00:15<00:17, 1326.31it/s]"
          ]
        },
        {
          "output_type": "stream",
          "name": "stdout",
          "text": [
            "16000 0.06783992495899134\n"
          ]
        },
        {
          "output_type": "stream",
          "name": "stderr",
          "text": [
            " 43%|████▎     | 17138/40000 [00:16<00:17, 1315.87it/s]"
          ]
        },
        {
          "output_type": "stream",
          "name": "stdout",
          "text": [
            "17000 0.060572403227463725\n"
          ]
        },
        {
          "output_type": "stream",
          "name": "stderr",
          "text": [
            " 46%|████▌     | 18211/40000 [00:17<00:16, 1331.73it/s]"
          ]
        },
        {
          "output_type": "stream",
          "name": "stdout",
          "text": [
            "18000 0.05438805664675356\n"
          ]
        },
        {
          "output_type": "stream",
          "name": "stderr",
          "text": [
            " 48%|████▊     | 19256/40000 [00:17<00:17, 1206.60it/s]"
          ]
        },
        {
          "output_type": "stream",
          "name": "stdout",
          "text": [
            "19000 0.0490210980491253\n"
          ]
        },
        {
          "output_type": "stream",
          "name": "stderr",
          "text": [
            " 50%|█████     | 20105/40000 [00:18<00:26, 754.17it/s]"
          ]
        },
        {
          "output_type": "stream",
          "name": "stdout",
          "text": [
            "20000 0.04432257815852298\n"
          ]
        },
        {
          "output_type": "stream",
          "name": "stderr",
          "text": [
            " 53%|█████▎    | 21092/40000 [00:20<00:26, 726.14it/s]"
          ]
        },
        {
          "output_type": "stream",
          "name": "stdout",
          "text": [
            "21000 0.04008131651402501\n"
          ]
        },
        {
          "output_type": "stream",
          "name": "stderr",
          "text": [
            " 56%|█████▌    | 22214/40000 [00:22<00:22, 786.57it/s]"
          ]
        },
        {
          "output_type": "stream",
          "name": "stdout",
          "text": [
            "22000 0.03628703905300799\n"
          ]
        },
        {
          "output_type": "stream",
          "name": "stderr",
          "text": [
            " 58%|█████▊    | 23063/40000 [00:22<00:21, 789.42it/s]"
          ]
        },
        {
          "output_type": "stream",
          "name": "stdout",
          "text": [
            "23000 0.03284046590747596\n"
          ]
        },
        {
          "output_type": "stream",
          "name": "stderr",
          "text": [
            " 61%|██████    | 24240/40000 [00:24<00:12, 1243.40it/s]"
          ]
        },
        {
          "output_type": "stream",
          "name": "stdout",
          "text": [
            "24000 0.029722252344542253\n"
          ]
        },
        {
          "output_type": "stream",
          "name": "stderr",
          "text": [
            " 63%|██████▎   | 25140/40000 [00:24<00:13, 1121.99it/s]"
          ]
        },
        {
          "output_type": "stream",
          "name": "stdout",
          "text": [
            "25000 0.026871388678642368\n"
          ]
        },
        {
          "output_type": "stream",
          "name": "stderr",
          "text": [
            " 66%|██████▌   | 26236/40000 [00:25<00:10, 1277.30it/s]"
          ]
        },
        {
          "output_type": "stream",
          "name": "stdout",
          "text": [
            "26000 0.02434725597507204\n"
          ]
        },
        {
          "output_type": "stream",
          "name": "stderr",
          "text": [
            " 68%|██████▊   | 27183/40000 [00:26<00:09, 1305.10it/s]"
          ]
        },
        {
          "output_type": "stream",
          "name": "stdout",
          "text": [
            "27000 0.02203976763498058\n"
          ]
        },
        {
          "output_type": "stream",
          "name": "stderr",
          "text": [
            " 71%|███████   | 28230/40000 [00:27<00:09, 1251.73it/s]"
          ]
        },
        {
          "output_type": "stream",
          "name": "stdout",
          "text": [
            "28000 0.019920062381036656\n"
          ]
        },
        {
          "output_type": "stream",
          "name": "stderr",
          "text": [
            " 73%|███████▎  | 29209/40000 [00:27<00:07, 1407.36it/s]"
          ]
        },
        {
          "output_type": "stream",
          "name": "stdout",
          "text": [
            "29000 0.018035134973654093\n"
          ]
        },
        {
          "output_type": "stream",
          "name": "stderr",
          "text": [
            " 76%|███████▌  | 30201/40000 [00:28<00:07, 1266.22it/s]"
          ]
        },
        {
          "output_type": "stream",
          "name": "stdout",
          "text": [
            "30000 0.01633951457785781\n"
          ]
        },
        {
          "output_type": "stream",
          "name": "stderr",
          "text": [
            " 79%|███████▉  | 31528/40000 [00:29<00:04, 1960.88it/s]"
          ]
        },
        {
          "output_type": "stream",
          "name": "stdout",
          "text": [
            "31000 0.01476249595143245\n"
          ]
        },
        {
          "output_type": "stream",
          "name": "stderr",
          "text": [
            " 81%|████████  | 32287/40000 [00:29<00:03, 2331.78it/s]"
          ]
        },
        {
          "output_type": "stream",
          "name": "stdout",
          "text": [
            "32000 0.013351104434839037\n"
          ]
        },
        {
          "output_type": "stream",
          "name": "stderr",
          "text": [
            " 83%|████████▎ | 33367/40000 [00:30<00:02, 2605.17it/s]"
          ]
        },
        {
          "output_type": "stream",
          "name": "stdout",
          "text": [
            "33000 0.012106106936988064\n"
          ]
        },
        {
          "output_type": "stream",
          "name": "stderr",
          "text": [
            " 86%|████████▌ | 34440/40000 [00:30<00:02, 2567.95it/s]"
          ]
        },
        {
          "output_type": "stream",
          "name": "stdout",
          "text": [
            "34000 0.010932098712386932\n"
          ]
        },
        {
          "output_type": "stream",
          "name": "stderr",
          "text": [
            " 88%|████████▊ | 35238/40000 [00:31<00:01, 2538.24it/s]"
          ]
        },
        {
          "output_type": "stream",
          "name": "stdout",
          "text": [
            "35000 0.00989516869033688\n"
          ]
        },
        {
          "output_type": "stream",
          "name": "stderr",
          "text": [
            " 90%|█████████ | 36124/40000 [00:31<00:02, 1639.25it/s]"
          ]
        },
        {
          "output_type": "stream",
          "name": "stdout",
          "text": [
            "36000 0.008965410875700894\n"
          ]
        },
        {
          "output_type": "stream",
          "name": "stderr",
          "text": [
            " 93%|█████████▎| 37169/40000 [00:32<00:02, 1356.36it/s]"
          ]
        },
        {
          "output_type": "stream",
          "name": "stdout",
          "text": [
            "37000 0.008144109157904185\n"
          ]
        },
        {
          "output_type": "stream",
          "name": "stderr",
          "text": [
            " 95%|█████████▌| 38158/40000 [00:33<00:01, 1386.71it/s]"
          ]
        },
        {
          "output_type": "stream",
          "name": "stdout",
          "text": [
            "38000 0.0073512630647961695\n"
          ]
        },
        {
          "output_type": "stream",
          "name": "stderr",
          "text": [
            " 98%|█████████▊| 39273/40000 [00:33<00:00, 1369.94it/s]"
          ]
        },
        {
          "output_type": "stream",
          "name": "stdout",
          "text": [
            "39000 0.00665618428782244\n"
          ]
        },
        {
          "output_type": "stream",
          "name": "stderr",
          "text": [
            "100%|██████████| 40000/40000 [00:34<00:00, 1166.90it/s]\n"
          ]
        },
        {
          "output_type": "display_data",
          "data": {
            "text/plain": [
              "<Figure size 500x300 with 3 Axes>"
            ],
            "image/png": "[encoded data removed]"
          },
          "metadata": {}
        }
      ]
    },
    {
      "cell_type": "code",
      "source": [
        "plt.figure(figsize=(5, 3))\n",
        "gs = gridspec.GridSpec(2, 1, height_ratios=[1, 3])\n",
        "plt.subplot(gs[0])\n",
        "\n",
        "pi1_nan = pi1.copy()\n",
        "pi1_nan[np.isnan(pi1_nan)] = 1 / num_actions\n",
        "R1 = evaluate_pi(pi1_nan)\n",
        "R2 = evaluate_pi(pi2)\n",
        "R3 = evaluate_pi(pi3)\n",
        "x = np.arange(3)\n",
        "plt.barh(x, [R1, R2, R3], color=[c_vec[0], c_vec[0], c_vec[1]])\n",
        "# plt.ylabel('regularization', fontsize=12)\n",
        "plt.xlabel('expected returns', fontsize=12)\n",
        "plt.gca().xaxis.set_label_position('top') \n",
        "plt.yticks(x, ['actor', 'critic', 'none'], fontsize=12)\n",
        "plt.gca().xaxis.set_major_locator(MultipleLocator(0.005))\n",
        "plt.gca().xaxis.set_minor_locator(MultipleLocator(0.001))\n",
        "plt.gca().xaxis.tick_top()\n",
        "\n",
        "\n",
        "plt.subplot(gs[1])\n",
        "l = plt.plot([0, 0.55], [0, 0.55], '-', c='#666', linewidth=1, alpha=0.5)\n",
        "plt.text(0.4, 0.5, '$y = x$', fontsize=12, c='#666')\n",
        "plt.plot(pi1.flatten(), pi2.flatten(), 'o', alpha=0.5, c=c_vec[0])\n",
        "plt.xlabel('actor regularization', fontsize=14)\n",
        "plt.ylabel('critic regularization', fontsize=14, c=c_vec[0])\n",
        "plt.gca().yaxis.set_major_locator(MultipleLocator(0.5))\n",
        "plt.gca().yaxis.set_minor_locator(MultipleLocator(0.1))\n",
        "# plt.grid()\n",
        "plt.gca().xaxis.set_major_locator(MultipleLocator(0.5))\n",
        "plt.gca().xaxis.set_minor_locator(MultipleLocator(0.1))\n",
        "\n",
        "\n",
        "plt.ylim([-0.05, 1.05])\n",
        "ax2 = plt.twinx()\n",
        "ax2.plot(pi1.flatten(), pi3.flatten(), 'o', c=c_vec[1], alpha=0.5)\n",
        "ax2.set_ylabel('Q-learning', fontsize=14, c=c_vec[1])\n",
        "ax2.set_ylim([-0.05, 1.05])\n",
        "ax2.yaxis.set_major_locator(MultipleLocator(0.5))\n",
        "ax2.yaxis.set_minor_locator(MultipleLocator(0.1))\n",
        "\n",
        "plt.subplots_adjust(hspace=0.5)\n",
        "filename = '/tmp/gridworld_exp1.pdf'\n",
        "plt.savefig(filename, bbox_inches='tight')\n",
        "plt.show()"
      ],
      "metadata": {
        "colab": {
          "height": 359,
          "base_uri": "https://localhost:8080/"
        },
        "id": "qdIe4Opst0Lp",
        "outputId": "8b6abc16-6973-44ca-a526-5ec481d7f04d"
      },
      "execution_count": 12,
      "outputs": [
        {
          "output_type": "display_data",
          "data": {
            "text/plain": [
              "<Figure size 500x300 with 3 Axes>"
            ],
            "image/png": "[encoded data removed]"
          },
          "metadata": {}
        }
      ]
    },
    {
      "cell_type": "markdown",
      "source": [
        "### Example 1, varying CQL coefficient"
      ],
      "metadata": {
        "id": "Pra4zbUaMLta"
      }
    },
    {
      "cell_type": "code",
      "source": [
        "### Step 1: collect data\n",
        "size = 5\n",
        "num_states = size**2\n",
        "num_actions = 5\n",
        "\n",
        "def step(s, a):\n",
        "  ij = np.array(np.unravel_index(s, (size, size)))\n",
        "  if a == 0:\n",
        "    ij[0] += 1\n",
        "  elif a == 1:\n",
        "    ij[1] += 1\n",
        "  elif a == 2:\n",
        "    ij[0] -= 1\n",
        "  elif a == 3:\n",
        "    ij[1] -= 1\n",
        "  ij = ij.clip(0, size - 1)\n",
        "  return np.ravel_multi_index(ij, (size, size))\n",
        "\n",
        "def reward(s, a):\n",
        "  return (s == 24).astype(float)\n",
        "\n",
        "initial_state = 0\n",
        "\n",
        "def evaluate_pi(pi):\n",
        "  p = np.zeros(num_states)\n",
        "  p[initial_state] = 1\n",
        "  p_ns_given_s = (p_ns_given_sa * pi[None]).sum(axis=-1)\n",
        "  r_vec = []\n",
        "  for t in range(1000):\n",
        "    p_sa = p[:, None] * pi\n",
        "    r = (r_sa * p_sa).sum()\n",
        "    r_vec.append(r * gamma**t)\n",
        "    p = p_ns_given_s @ p\n",
        "  R1 = np.sum(r_vec)\n",
        "  return R1\n",
        "\n",
        "  \n",
        "# collect static dataset\n",
        "traj_vec = []\n",
        "\n",
        "num_traj = 20\n",
        "max_episode_steps = 50\n",
        "np.random.seed(0)\n",
        "for _ in tqdm.trange(num_traj):\n",
        "  traj = []\n",
        "  s = initial_state\n",
        "  for __ in range(max_episode_steps):\n",
        "    a = np.random.choice(num_actions)\n",
        "    traj.append((s, a))\n",
        "    s = step(s, a)\n",
        "  traj_vec.append(traj)\n",
        "traj_vec = np.array(traj_vec)  # (num_traj, max_episode_steps, 2)"
      ],
      "metadata": {
        "id": "BS3s_r44cLes",
        "outputId": "0407722b-d90b-45f9-9c48-6a63ef29178b"
      },
      "execution_count": null,
      "outputs": [
        {
          "output_type": "stream",
          "name": "stderr",
          "text": [
            "100%|██████████| 20/20 [00:00<00:00, 428.76it/s]\n"
          ]
        }
      ]
    },
    {
      "cell_type": "code",
      "source": [
        "# actor regularization\n",
        "# TODO: When proving the equivalence, do we want to just use the empirical next state, or sample from the empirical behavioral policy. Note that these are different.\n",
        "\n",
        "gamma = 0.95\n",
        "learning_rate = 1e-2\n",
        "use_sarsa = True\n",
        "regularize_policy = True\n",
        "\n",
        "np.random.seed(0)\n",
        "Q = np.random.normal(size=(num_states, num_actions))\n",
        "s_vec = traj_vec[:, :-1, 0].flatten()\n",
        "ns_vec = traj_vec[:, 1:, 0].flatten()\n",
        "a_vec = traj_vec[:, :-1, 1].flatten()\n",
        "na_vec = traj_vec[:, 1:, 1].flatten()\n",
        "r_vec = reward(s_vec, a_vec)\n",
        "diff_vec = []\n",
        "\n",
        "counts = np.zeros((num_states, num_actions))\n",
        "np.add.at(counts, (s_vec, a_vec), 1)\n",
        "beta = counts / counts.sum(axis=1, keepdims=True)\n",
        "assert np.all(np.isfinite(beta))\n",
        "\n",
        "for _ in tqdm.trange(20_000):\n",
        "  V_vec = (Q[ns_vec] * beta[ns_vec]).sum(axis=-1)\n",
        "  td_update = r_vec + gamma * V_vec - Q[s_vec, a_vec]\n",
        "  diff = np.linalg.norm(td_update)\n",
        "  diff_vec.append(diff)\n",
        "  np.add.at(Q, (s_vec, a_vec), learning_rate * td_update)\n",
        "\n",
        "\n",
        "# policy extraction\n",
        "pi = (Q * beta).clip(0, None)  # Ignore negative Q values\n",
        "pi = pi / pi.sum(axis=1, keepdims=True)  # Normalize the probabilities\n",
        "\n",
        "Q1 = Q.copy()\n",
        "pi1 = pi.copy()"
      ],
      "metadata": {
        "id": "QtRJADd9KT4x",
        "outputId": "c6badb5f-d465-411c-e7f4-30240f268521"
      },
      "execution_count": null,
      "outputs": [
        {
          "output_type": "stream",
          "name": "stderr",
          "text": [
            "100%|██████████| 20000/20000 [00:05<00:00, 3812.28it/s]\n"
          ]
        }
      ]
    },
    {
      "cell_type": "code",
      "source": [
        "# critic regularization\n",
        "gamma = 0.95\n",
        "learning_rate = 1e-4\n",
        "np.random.seed(0)\n",
        "\n",
        "L_vec = np.logspace(-1, 1, 7)\n",
        "R_vec = []\n",
        "num_seeds = 1\n",
        "for L in L_vec:\n",
        "  print('L = %s' % L)\n",
        "  vec = []\n",
        "  for _ in tqdm.trange(num_seeds):\n",
        "    Q = np.random.normal(size=(num_states, num_actions))\n",
        "    s_vec = traj_vec[:, :-1, 0].flatten()\n",
        "    ns_vec = traj_vec[:, 1:, 0].flatten()\n",
        "    a_vec = traj_vec[:, :-1, 1].flatten()\n",
        "    na_vec = traj_vec[:, 1:, 1].flatten()\n",
        "    r_vec = reward(s_vec, a_vec)\n",
        "    diff_vec = []\n",
        "    pi = np.ones((num_states, num_actions)) / num_actions\n",
        "\n",
        "    for t in range(40_000):  # TODO(eysenbach): increase to 40k\n",
        "      V_vec = (Q[ns_vec] * pi[ns_vec]).sum(axis=-1)\n",
        "\n",
        "      pos_weights = np.zeros((num_states, num_actions))\n",
        "      y = r_vec + gamma * V_vec\n",
        "      np.add.at(pos_weights, (s_vec, a_vec), y / (y + 1))\n",
        "      neg_weights = np.zeros((num_states, num_actions))\n",
        "      w = pi[s_vec, a_vec] / beta[s_vec, a_vec]\n",
        "      w = L * w + (1 - L)\n",
        "      np.add.at(neg_weights, (s_vec, a_vec), w / (y + 1))\n",
        "      # Add epsilon to make the classifier in (0, 1)\n",
        "      opt_classifier = pos_weights / (pos_weights + neg_weights + 1e-12)\n",
        "      # opt_classifier = opt_classifier.clip(1e-6, 1 - 1e-6)\n",
        "      diff_vec.append(np.linalg.norm(Q - opt_classifier / (1 - opt_classifier)))\n",
        "      Q = opt_classifier / (1 - opt_classifier)\n",
        "\n",
        "      # Do a small update to pi to ensure convergence\n",
        "      pi_new = np.zeros((num_states, num_actions))\n",
        "      pi_new[np.arange(num_states), Q.argmax(axis=1)] = 1\n",
        "      pi += learning_rate * (pi_new - pi)\n",
        "      if t % 1000 == 0:\n",
        "        R2 = np.mean(pi1.argmax(axis=1) == pi.argmax(axis=1))\n",
        "        print('(t=%d) R^2=%.3f' % (t, R2))  # sklearn.metrics.r2_score(pi1.flatten(), pi.flatten())))\n",
        "    # R2 = sklearn.metrics.r2_score(pi1.flatten(), pi.flatten())\n",
        "    R2 = np.mean(pi1.argmax(axis=1) == pi.argmax(axis=1))\n",
        "    vec.append(R2)\n",
        "  R_vec.append(vec)\n",
        "    # Q2 = Q.copy()\n",
        "    # pi2 = pi.copy()"
      ],
      "metadata": {
        "id": "eqVax3vJctbt",
        "outputId": "9b1b3d98-bca2-4d17-d8ed-30317fd6ad12"
      },
      "execution_count": null,
      "outputs": [
        {
          "output_type": "stream",
          "name": "stdout",
          "text": [
            "L = 0.1\n"
          ]
        },
        {
          "output_type": "stream",
          "name": "stderr",
          "text": [
            "\r  0%|          | 0/1 [00:00<?, ?it/s]"
          ]
        },
        {
          "output_type": "stream",
          "name": "stdout",
          "text": [
            "(t=0) R^2=0.240\n",
            "(t=1000) R^2=0.680\n",
            "(t=2000) R^2=0.720\n",
            "(t=3000) R^2=0.760\n",
            "(t=4000) R^2=0.720\n",
            "(t=5000) R^2=0.720\n",
            "(t=6000) R^2=0.720\n",
            "(t=7000) R^2=0.680\n",
            "(t=8000) R^2=0.680\n",
            "(t=9000) R^2=0.680\n",
            "(t=10000) R^2=0.680\n",
            "(t=11000) R^2=0.640\n",
            "(t=12000) R^2=0.640\n",
            "(t=13000) R^2=0.640\n",
            "(t=14000) R^2=0.640\n",
            "(t=15000) R^2=0.640\n",
            "(t=16000) R^2=0.640\n",
            "(t=17000) R^2=0.640\n",
            "(t=18000) R^2=0.640\n",
            "(t=19000) R^2=0.640\n",
            "(t=20000) R^2=0.640\n",
            "(t=21000) R^2=0.640\n",
            "(t=22000) R^2=0.640\n",
            "(t=23000) R^2=0.640\n",
            "(t=24000) R^2=0.640\n",
            "(t=25000) R^2=0.640\n",
            "(t=26000) R^2=0.640\n",
            "(t=27000) R^2=0.640\n",
            "(t=28000) R^2=0.640\n",
            "(t=29000) R^2=0.640\n",
            "(t=30000) R^2=0.640\n",
            "(t=31000) R^2=0.640\n",
            "(t=32000) R^2=0.640\n",
            "(t=33000) R^2=0.640\n",
            "(t=34000) R^2=0.640\n",
            "(t=35000) R^2=0.640\n",
            "(t=36000) R^2=0.640\n",
            "(t=37000) R^2=0.640\n",
            "(t=38000) R^2=0.640\n",
            "(t=39000) R^2=0.640"
          ]
        },
        {
          "output_type": "stream",
          "name": "stderr",
          "text": [
            "100%|██████████| 1/1 [00:18<00:00, 18.79s/it]"
          ]
        },
        {
          "output_type": "stream",
          "name": "stdout",
          "text": [
            "\n",
            "L = 0.21544346900318834"
          ]
        },
        {
          "output_type": "stream",
          "name": "stderr",
          "text": [
            "\n"
          ]
        },
        {
          "output_type": "stream",
          "name": "stdout",
          "text": [
            "\n"
          ]
        },
        {
          "output_type": "stream",
          "name": "stderr",
          "text": [
            "\r  0%|          | 0/1 [00:00<?, ?it/s]"
          ]
        },
        {
          "output_type": "stream",
          "name": "stdout",
          "text": [
            "(t=0) R^2=0.320\n",
            "(t=1000) R^2=0.800\n",
            "(t=2000) R^2=0.800\n",
            "(t=3000) R^2=0.800\n",
            "(t=4000) R^2=0.800\n",
            "(t=5000) R^2=0.800\n",
            "(t=6000) R^2=0.800\n",
            "(t=7000) R^2=0.800\n",
            "(t=8000) R^2=0.800\n",
            "(t=9000) R^2=0.800\n",
            "(t=10000) R^2=0.800\n",
            "(t=11000) R^2=0.800\n",
            "(t=12000) R^2=0.800\n",
            "(t=13000) R^2=0.800\n",
            "(t=14000) R^2=0.800\n",
            "(t=15000) R^2=0.800\n",
            "(t=16000) R^2=0.800\n",
            "(t=17000) R^2=0.800\n",
            "(t=18000) R^2=0.800\n",
            "(t=19000) R^2=0.800\n",
            "(t=20000) R^2=0.800\n",
            "(t=21000) R^2=0.800\n",
            "(t=22000) R^2=0.800\n",
            "(t=23000) R^2=0.800\n",
            "(t=24000) R^2=0.800\n",
            "(t=25000) R^2=0.800\n",
            "(t=26000) R^2=0.800\n",
            "(t=27000) R^2=0.800\n",
            "(t=28000) R^2=0.800\n",
            "(t=29000) R^2=0.800\n",
            "(t=30000) R^2=0.800\n",
            "(t=31000) R^2=0.800\n",
            "(t=32000) R^2=0.800\n",
            "(t=33000) R^2=0.800\n",
            "(t=34000) R^2=0.800\n",
            "(t=35000) R^2=0.800\n",
            "(t=36000) R^2=0.800\n",
            "(t=37000) R^2=0.800\n",
            "(t=38000) R^2=0.800\n",
            "(t=39000) R^2=0.800"
          ]
        },
        {
          "output_type": "stream",
          "name": "stderr",
          "text": [
            "100%|██████████| 1/1 [00:18<00:00, 18.80s/it]"
          ]
        },
        {
          "output_type": "stream",
          "name": "stdout",
          "text": [
            "\n",
            "L = 0.46415888336127786"
          ]
        },
        {
          "output_type": "stream",
          "name": "stderr",
          "text": [
            "\n"
          ]
        },
        {
          "output_type": "stream",
          "name": "stdout",
          "text": [
            "\n"
          ]
        },
        {
          "output_type": "stream",
          "name": "stderr",
          "text": [
            "\r  0%|          | 0/1 [00:00<?, ?it/s]"
          ]
        },
        {
          "output_type": "stream",
          "name": "stdout",
          "text": [
            "(t=0) R^2=0.280\n",
            "(t=1000) R^2=0.800\n",
            "(t=2000) R^2=0.800\n",
            "(t=3000) R^2=0.800\n",
            "(t=4000) R^2=0.800\n",
            "(t=5000) R^2=0.800\n",
            "(t=6000) R^2=0.800\n",
            "(t=7000) R^2=0.800\n",
            "(t=8000) R^2=0.840\n",
            "(t=9000) R^2=0.840\n",
            "(t=10000) R^2=0.840\n",
            "(t=11000) R^2=0.880\n",
            "(t=12000) R^2=0.880\n",
            "(t=13000) R^2=0.880\n",
            "(t=14000) R^2=0.880\n",
            "(t=15000) R^2=0.880\n",
            "(t=16000) R^2=0.880\n",
            "(t=17000) R^2=0.880\n",
            "(t=18000) R^2=0.840\n",
            "(t=19000) R^2=0.840\n",
            "(t=20000) R^2=0.840\n",
            "(t=21000) R^2=0.840\n",
            "(t=22000) R^2=0.840\n",
            "(t=23000) R^2=0.840\n",
            "(t=24000) R^2=0.840\n",
            "(t=25000) R^2=0.880\n",
            "(t=26000) R^2=0.880\n",
            "(t=27000) R^2=0.880\n",
            "(t=28000) R^2=0.880\n",
            "(t=29000) R^2=0.880\n",
            "(t=30000) R^2=0.840\n",
            "(t=31000) R^2=0.840\n",
            "(t=32000) R^2=0.840\n",
            "(t=33000) R^2=0.840\n",
            "(t=34000) R^2=0.840\n",
            "(t=35000) R^2=0.840\n",
            "(t=36000) R^2=0.840\n",
            "(t=37000) R^2=0.880\n",
            "(t=38000) R^2=0.880\n",
            "(t=39000) R^2=0.880"
          ]
        },
        {
          "output_type": "stream",
          "name": "stderr",
          "text": [
            "100%|██████████| 1/1 [00:18<00:00, 18.60s/it]"
          ]
        },
        {
          "output_type": "stream",
          "name": "stdout",
          "text": [
            "\n",
            "L = 1.0"
          ]
        },
        {
          "output_type": "stream",
          "name": "stderr",
          "text": [
            "\n"
          ]
        },
        {
          "output_type": "stream",
          "name": "stdout",
          "text": [
            "\n"
          ]
        },
        {
          "output_type": "stream",
          "name": "stderr",
          "text": [
            "\r  0%|          | 0/1 [00:00<?, ?it/s]"
          ]
        },
        {
          "output_type": "stream",
          "name": "stdout",
          "text": [
            "(t=0) R^2=0.440\n",
            "(t=1000) R^2=1.000\n",
            "(t=2000) R^2=1.000\n",
            "(t=3000) R^2=0.960\n",
            "(t=4000) R^2=0.960\n",
            "(t=5000) R^2=0.960\n",
            "(t=6000) R^2=1.000\n",
            "(t=7000) R^2=1.000\n",
            "(t=8000) R^2=0.960\n",
            "(t=9000) R^2=0.960\n",
            "(t=10000) R^2=1.000\n",
            "(t=11000) R^2=0.960\n",
            "(t=12000) R^2=0.960\n",
            "(t=13000) R^2=0.960\n",
            "(t=14000) R^2=1.000\n",
            "(t=15000) R^2=1.000\n",
            "(t=16000) R^2=0.960\n",
            "(t=17000) R^2=0.960\n",
            "(t=18000) R^2=1.000\n",
            "(t=19000) R^2=1.000\n",
            "(t=20000) R^2=0.960\n",
            "(t=21000) R^2=0.960\n",
            "(t=22000) R^2=0.960\n",
            "(t=23000) R^2=1.000\n",
            "(t=24000) R^2=1.000\n",
            "(t=25000) R^2=0.960\n",
            "(t=26000) R^2=1.000\n",
            "(t=27000) R^2=1.000\n",
            "(t=28000) R^2=1.000\n",
            "(t=29000) R^2=1.000\n",
            "(t=30000) R^2=0.960\n",
            "(t=31000) R^2=1.000\n",
            "(t=32000) R^2=1.000\n",
            "(t=33000) R^2=0.960\n",
            "(t=34000) R^2=0.960\n",
            "(t=35000) R^2=0.960\n",
            "(t=36000) R^2=1.000\n",
            "(t=37000) R^2=1.000\n",
            "(t=38000) R^2=0.960\n",
            "(t=39000) R^2=0.960"
          ]
        },
        {
          "output_type": "stream",
          "name": "stderr",
          "text": [
            "100%|██████████| 1/1 [00:18<00:00, 18.21s/it]"
          ]
        },
        {
          "output_type": "stream",
          "name": "stdout",
          "text": [
            "\n",
            "L = 2.1544346900318834"
          ]
        },
        {
          "output_type": "stream",
          "name": "stderr",
          "text": [
            "\n"
          ]
        },
        {
          "output_type": "stream",
          "name": "stdout",
          "text": [
            "\n"
          ]
        },
        {
          "output_type": "stream",
          "name": "stderr",
          "text": [
            "\r  0%|          | 0/1 [00:00<?, ?it/s]"
          ]
        },
        {
          "output_type": "stream",
          "name": "stdout",
          "text": [
            "(t=0) R^2=0.200\n",
            "(t=1000) R^2=0.640\n",
            "(t=2000) R^2=0.640\n",
            "(t=3000) R^2=0.680\n",
            "(t=4000) R^2=0.680\n",
            "(t=5000) R^2=0.640\n",
            "(t=6000) R^2=0.800\n",
            "(t=7000) R^2=0.720\n",
            "(t=8000) R^2=0.720\n",
            "(t=9000) R^2=0.720\n",
            "(t=10000) R^2=0.760\n",
            "(t=11000) R^2=0.760\n",
            "(t=12000) R^2=0.760\n",
            "(t=13000) R^2=0.760\n",
            "(t=14000) R^2=0.760\n",
            "(t=15000) R^2=0.720\n",
            "(t=16000) R^2=0.720\n",
            "(t=17000) R^2=0.720\n",
            "(t=18000) R^2=0.760\n",
            "(t=19000) R^2=0.760\n",
            "(t=20000) R^2=0.760\n",
            "(t=21000) R^2=0.760\n",
            "(t=22000) R^2=0.720\n",
            "(t=23000) R^2=0.760\n",
            "(t=24000) R^2=0.720\n",
            "(t=25000) R^2=0.720\n",
            "(t=26000) R^2=0.720\n",
            "(t=27000) R^2=0.760\n",
            "(t=28000) R^2=0.760\n",
            "(t=29000) R^2=0.760\n",
            "(t=30000) R^2=0.760\n",
            "(t=31000) R^2=0.720\n",
            "(t=32000) R^2=0.720\n",
            "(t=33000) R^2=0.720\n",
            "(t=34000) R^2=0.720\n",
            "(t=35000) R^2=0.720\n",
            "(t=36000) R^2=0.760\n",
            "(t=37000) R^2=0.760\n",
            "(t=38000) R^2=0.760\n",
            "(t=39000) R^2=0.720"
          ]
        },
        {
          "output_type": "stream",
          "name": "stderr",
          "text": [
            "100%|██████████| 1/1 [00:17<00:00, 17.02s/it]"
          ]
        },
        {
          "output_type": "stream",
          "name": "stdout",
          "text": [
            "\n",
            "L = 4.6415888336127775"
          ]
        },
        {
          "output_type": "stream",
          "name": "stderr",
          "text": [
            "\n"
          ]
        },
        {
          "output_type": "stream",
          "name": "stdout",
          "text": [
            "\n"
          ]
        },
        {
          "output_type": "stream",
          "name": "stderr",
          "text": [
            "\r  0%|          | 0/1 [00:00<?, ?it/s]"
          ]
        },
        {
          "output_type": "stream",
          "name": "stdout",
          "text": [
            "(t=0) R^2=0.320\n",
            "(t=1000) R^2=0.320\n",
            "(t=2000) R^2=0.280\n",
            "(t=3000) R^2=0.400\n",
            "(t=4000) R^2=0.400\n",
            "(t=5000) R^2=0.400\n",
            "(t=6000) R^2=0.400\n",
            "(t=7000) R^2=0.400\n",
            "(t=8000) R^2=0.400\n",
            "(t=9000) R^2=0.400\n",
            "(t=10000) R^2=0.400\n",
            "(t=11000) R^2=0.400\n",
            "(t=12000) R^2=0.400\n",
            "(t=13000) R^2=0.400\n",
            "(t=14000) R^2=0.400\n",
            "(t=15000) R^2=0.400\n",
            "(t=16000) R^2=0.400\n",
            "(t=17000) R^2=0.400\n",
            "(t=18000) R^2=0.400\n",
            "(t=19000) R^2=0.400\n",
            "(t=20000) R^2=0.400\n",
            "(t=21000) R^2=0.400\n",
            "(t=22000) R^2=0.400\n",
            "(t=23000) R^2=0.400\n",
            "(t=24000) R^2=0.400\n",
            "(t=25000) R^2=0.400\n",
            "(t=26000) R^2=0.400\n",
            "(t=27000) R^2=0.400\n",
            "(t=28000) R^2=0.400\n",
            "(t=29000) R^2=0.400\n",
            "(t=30000) R^2=0.400\n",
            "(t=31000) R^2=0.400\n",
            "(t=32000) R^2=0.400\n",
            "(t=33000) R^2=0.400\n",
            "(t=34000) R^2=0.400\n",
            "(t=35000) R^2=0.400\n",
            "(t=36000) R^2=0.400\n",
            "(t=37000) R^2=0.400\n",
            "(t=38000) R^2=0.400\n",
            "(t=39000) R^2=0.400"
          ]
        },
        {
          "output_type": "stream",
          "name": "stderr",
          "text": [
            "<ipython-input-35-70ae30909038>:35: RuntimeWarning: divide by zero encountered in divide\n",
            "  diff_vec.append(np.linalg.norm(Q - opt_classifier / (1 - opt_classifier)))\n",
            "<ipython-input-35-70ae30909038>:36: RuntimeWarning: divide by zero encountered in divide\n",
            "  Q = opt_classifier / (1 - opt_classifier)\n",
            "<ipython-input-35-70ae30909038>:27: RuntimeWarning: invalid value encountered in divide\n",
            "  np.add.at(pos_weights, (s_vec, a_vec), y / (y + 1))\n",
            "100%|██████████| 1/1 [00:17<00:00, 17.47s/it]"
          ]
        },
        {
          "output_type": "stream",
          "name": "stdout",
          "text": [
            "\n",
            "L = 10.0"
          ]
        },
        {
          "output_type": "stream",
          "name": "stderr",
          "text": [
            "\n"
          ]
        },
        {
          "output_type": "stream",
          "name": "stdout",
          "text": [
            "\n"
          ]
        },
        {
          "output_type": "stream",
          "name": "stderr",
          "text": [
            "\r  0%|          | 0/1 [00:00<?, ?it/s]"
          ]
        },
        {
          "output_type": "stream",
          "name": "stdout",
          "text": [
            "(t=0) R^2=0.200\n",
            "(t=1000) R^2=0.400\n",
            "(t=2000) R^2=0.400\n",
            "(t=3000) R^2=0.400\n",
            "(t=4000) R^2=0.400\n",
            "(t=5000) R^2=0.400\n",
            "(t=6000) R^2=0.400\n",
            "(t=7000) R^2=0.400\n",
            "(t=8000) R^2=0.400\n",
            "(t=9000) R^2=0.400\n",
            "(t=10000) R^2=0.400\n",
            "(t=11000) R^2=0.400\n",
            "(t=12000) R^2=0.400\n",
            "(t=13000) R^2=0.400\n",
            "(t=14000) R^2=0.400\n",
            "(t=15000) R^2=0.400\n",
            "(t=16000) R^2=0.400\n",
            "(t=17000) R^2=0.400\n",
            "(t=18000) R^2=0.400\n",
            "(t=19000) R^2=0.400\n",
            "(t=20000) R^2=0.400\n",
            "(t=21000) R^2=0.400\n",
            "(t=22000) R^2=0.400\n",
            "(t=23000) R^2=0.400\n",
            "(t=24000) R^2=0.400\n",
            "(t=25000) R^2=0.400\n",
            "(t=26000) R^2=0.400\n",
            "(t=27000) R^2=0.400\n",
            "(t=28000) R^2=0.400\n",
            "(t=29000) R^2=0.400\n",
            "(t=30000) R^2=0.400\n",
            "(t=31000) R^2=0.400\n",
            "(t=32000) R^2=0.400\n",
            "(t=33000) R^2=0.400\n",
            "(t=34000) R^2=0.400\n",
            "(t=35000) R^2=0.400\n",
            "(t=36000) R^2=0.400\n",
            "(t=37000) R^2=0.400\n",
            "(t=38000) R^2=0.400\n",
            "(t=39000) R^2=0.400"
          ]
        },
        {
          "output_type": "stream",
          "name": "stderr",
          "text": [
            "100%|██████████| 1/1 [00:18<00:00, 18.59s/it]"
          ]
        },
        {
          "output_type": "stream",
          "name": "stdout",
          "text": [
            "\n"
          ]
        },
        {
          "output_type": "stream",
          "name": "stderr",
          "text": [
            "\n"
          ]
        }
      ]
    },
    {
      "cell_type": "code",
      "source": [
        "c_vec = plt.rcParams['axes.prop_cycle'].by_key()['color']\n",
        "\n",
        "plt.figure(figsize=(4, 2))\n",
        "mu = np.mean(R_vec, axis=1)\n",
        "std = np.std(R_vec, axis=1)\n",
        "plt.plot(L_vec, mu, '-o', c=c_vec[0])\n",
        "plt.fill_between(L_vec, mu-std, mu+std, fc=c_vec[0], alpha=0.2)\n",
        "plt.xlabel('regularization coefficient ($\\lambda$)', fontsize=12)\n",
        "plt.ylabel('fraction of same actions', fontsize=12)\n",
        "plt.xscale('log')\n",
        "plt.ylim([None, 1.05])\n",
        "plt.grid()\n",
        "filename = '/tmp/tabular_similarity.pdf'\n",
        "plt.savefig(filename, bbox_inches='tight')\n",
        "plt.show()"
      ],
      "metadata": {
        "colab": {
          "height": 217
        },
        "id": "EnqgOcQbeHqz",
        "outputId": "6829d06a-5d91-40dd-9d12-95ee8da1425b"
      },
      "execution_count": null,
      "outputs": [
        {
          "output_type": "display_data",
          "data": {
            "image/png": "[encoded data removed]",
            "text/plain": [
              "<Figure size 400x200 with 1 Axes>"
            ]
          },
          "metadata": {}
        },
        {
          "output_type": "display_data",
          "data": {
            "text/html": [
              "<a download='tabular_similarity.pdf' id='id_471215599'>Download tabular_similarity.pdf</a>"
            ],
            "text/plain": [
              "<IPython.core.display.HTML object>"
            ]
          },
          "metadata": {}
        },
        {
          "output_type": "display_data",
          "data": {
            "application/javascript": [
              "\n",
              "    (function() {\n",
              "      window[\"id_471215600\"] = [];\n",
              "      const chunk = atob(\"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\");\n",
              "      const arr = new Uint8Array(chunk.length);\n",
              "      for(let i=0; i<chunk.length; ++i) {\n",
              "        arr[i] = chunk.charCodeAt(i);\n",
              "      }\n",
              "      window[\"id_471215600\"].push(arr);\n",
              "      return true;\n",
              "    })();\n",
              "    \n",
              "//# sourceURL=js_59372e3363"
            ],
            "text/plain": [
              "<IPython.core.display.Javascript object>"
            ]
          },
          "metadata": {}
        },
        {
          "output_type": "display_data",
          "data": {
            "application/javascript": [
              "\n",
              "    (function() {\n",
              "      const blob = new Blob(window[\"id_471215600\"], {type: \"\"});\n",
              "      window[\"id_471215600\"] = URL.createObjectURL(blob);\n",
              "      return true;\n",
              "    })();\n",
              "  \n",
              "//# sourceURL=js_f5a8e034c0"
            ],
            "text/plain": [
              "<IPython.core.display.Javascript object>"
            ]
          },
          "metadata": {}
        },
        {
          "output_type": "display_data",
          "data": {
            "application/javascript": [
              "window[\"1b27d764-5f6d-11ed-80c9-582429b354e0\"] = document.getElementById(\"id_471215599\");\n",
              "//# sourceURL=js_9742347f1b"
            ],
            "text/plain": [
              "<IPython.core.display.Javascript object>"
            ]
          },
          "metadata": {}
        },
        {
          "output_type": "display_data",
          "data": {
            "application/javascript": [
              "window[\"1b27f580-5f6d-11ed-9fd7-582429b354e0\"] = window[\"1b27d764-5f6d-11ed-80c9-582429b354e0\"].setAttribute(\"href\", id_471215600);\n",
              "//# sourceURL=js_82cdbaffc5"
            ],
            "text/plain": [
              "<IPython.core.display.Javascript object>"
            ]
          },
          "metadata": {}
        }
      ]
    }
  ]
}